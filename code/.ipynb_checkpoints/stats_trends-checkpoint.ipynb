{
 "cells": [
  {
   "cell_type": "code",
   "execution_count": null,
   "id": "04d163ea-3472-4bc5-a325-be48d1ac83f2",
   "metadata": {},
   "outputs": [],
   "source": [
    "import os\n",
    "import pandas as pd\n",
    "import numpy as np\n",
    "import matplotlib.pyplot as plt\n",
    "import seaborn as sns\n",
    "from scipy.stats import skew, kurtosis\n",
    "\n",
    "DATA_PATH = \"../data/Global Temperature.csv\"   \n",
    "FIGURES_DIR = \"../figures\"\n",
    "os.makedirs(FIGURES_DIR, exist_ok=True)"
   ]
  },
  {
   "cell_type": "code",
   "execution_count": null,
   "id": "bd83120d-7c00-4bd1-8f31-10340c2c73b7",
   "metadata": {},
   "outputs": [],
   "source": [
    "df = pd.read_csv(DATA_PATH)\n",
    "print(\"Loaded dataset:\", DATA_PATH)\n",
    "print(\"Shape:\", df.shape)\n",
    "print(\"Columns:\", df.columns.tolist())"
   ]
  },
  {
   "cell_type": "code",
   "execution_count": null,
   "id": "20916b49-c30b-4f3d-8a8e-f385a3d5e261",
   "metadata": {},
   "outputs": [],
   "source": [
    "# Data Cleaning\n",
    "for col in df.columns:\n",
    "    if 'Anomaly' in col or 'Unc' in col:\n",
    "        # Converts columns to float\n",
    "        df[col] = pd.to_numeric(df[col], errors='coerce')\n",
    "\n",
    "print(\"Columns:\", df.columns.tolist())\n"
   ]
  },
  {
   "cell_type": "code",
   "execution_count": null,
   "id": "742b75bf-2add-41ca-a9cd-417cfb25afc5",
   "metadata": {},
   "outputs": [],
   "source": [
    "# Identify columns that are 100% NaN\n",
    "full_empty_cols = df.columns[df.isna().all()].tolist()\n",
    "if full_empty_cols:\n",
    "    print(f\"Columns found that are 100% NaN and will be dropped: {full_empty_cols}\")\n",
    "    \n",
    "# Drop full-empty columns (if all NaN)\n",
    "df = df.dropna(axis=1, how='all')\n"
   ]
  },
  {
   "cell_type": "code",
   "execution_count": null,
   "id": "fde07faa-439c-4034-a05a-c0101af0b674",
   "metadata": {},
   "outputs": [],
   "source": [
    "# Identify columns that contain AT LEAST ONE NaN\n",
    "ffill_affected_cols = df.columns[df.isna().any()].tolist()\n",
    "if ffill_affected_cols:\n",
    "    print(f\"Columns containing NaNs that will be imputed by ffill: {ffill_affected_cols}\")\n",
    "    \n",
    "# Replace numeric NaNs with forward-fill\n",
    "df = df.ffill()"
   ]
  },
  {
   "cell_type": "code",
   "execution_count": null,
   "id": "cd34abc7-ddd8-44de-bca9-b47c99989caf",
   "metadata": {},
   "outputs": [],
   "source": [
    "# FIX Columns spaces\n",
    "# df.columns = df.columns.str.strip()"
   ]
  },
  {
   "cell_type": "code",
   "execution_count": null,
   "id": "78664eff-3593-47f0-a35c-a8187f0717f6",
   "metadata": {},
   "outputs": [],
   "source": [
    "# Create a 'Date' column combining Year and Month\n",
    "df['Date'] = pd.to_datetime(df[['Year', 'Month']].assign(day=1))\n",
    "# df['Date'] = pd.to_datetime(df[['Year']].assign(Month=1, Day=1))\n",
    "\n",
    "# SELECT NUMERIC COLUMNS\n",
    "numeric_cols = df.select_dtypes(include=[np.number]).columns.tolist()\n",
    "print(\"\\nNumeric columns:\", numeric_cols)"
   ]
  },
  {
   "cell_type": "code",
   "execution_count": null,
   "id": "e75b5d8f-2daf-485d-a05c-e0586f69bb67",
   "metadata": {},
   "outputs": [],
   "source": [
    "# For our 4 statistical moments, we will focus on the Monthly Anomaly column\n",
    "target_col = 'Monthly Anomaly' if 'Monthly Anomaly' in df.columns else numeric_cols[2]\n",
    "\n",
    "series = df[target_col].dropna()\n",
    "\n",
    "# STATISTICAL MOMENTS\n",
    "mean_val = series.mean()\n",
    "var_val = series.var(ddof=0)\n",
    "skew_val = skew(series)\n",
    "kurt_val = kurtosis(series)\n",
    "\n",
    "print(f\"\\nStatistical Moments for {target_col}:\")\n",
    "print(f\"  Mean: {mean_val:.4f}\")\n",
    "print(f\"  Variance: {var_val:.4f}\")\n",
    "print(f\"  Skewness: {skew_val:.4f}\")\n",
    "print(f\"  Kurtosis: {kurt_val:.4f}\")"
   ]
  },
  {
   "cell_type": "code",
   "execution_count": null,
   "id": "c88bc61f-08a7-41cd-b9e1-8f115a2be333",
   "metadata": {},
   "outputs": [],
   "source": [
    "# Line plot over time\n",
    "plt.figure(figsize=(10,5))\n",
    "sns.lineplot(data=df, x='Date', y=target_col, color='#A52A2A')\n",
    "plt.title(f\"{target_col} Over Time\")\n",
    "plt.xlabel(\"Year\")\n",
    "plt.ylabel(target_col)\n",
    "plt.tight_layout()\n",
    "plt.show()\n",
    "\n",
    "# plt.savefig(os.path.join(FIGURES_DIR, \"relational_line.png\"))\n",
    "# plt.close()\n",
    "# print(\"Saved: relational_line.png\")"
   ]
  },
  {
   "cell_type": "code",
   "execution_count": 59,
   "id": "cbc03e7d-eb08-43e0-b733-c3a89cc76ed9",
   "metadata": {},
   "outputs": [
    {
     "ename": "KeyError",
     "evalue": "'Month'",
     "output_type": "error",
     "traceback": [
      "\u001b[1;31m---------------------------------------------------------------------------\u001b[0m",
      "\u001b[1;31mKeyError\u001b[0m                                  Traceback (most recent call last)",
      "Cell \u001b[1;32mIn[59], line 2\u001b[0m\n\u001b[0;32m      1\u001b[0m \u001b[38;5;66;03m# Bar plot per month\u001b[39;00m\n\u001b[1;32m----> 2\u001b[0m monthly_avg \u001b[38;5;241m=\u001b[39m df\u001b[38;5;241m.\u001b[39mgroupby(\u001b[38;5;124m'\u001b[39m\u001b[38;5;124mMonth\u001b[39m\u001b[38;5;124m'\u001b[39m)[target_col]\u001b[38;5;241m.\u001b[39mmean()\u001b[38;5;241m.\u001b[39mreset_index()\n\u001b[0;32m      4\u001b[0m plt\u001b[38;5;241m.\u001b[39mfigure(figsize\u001b[38;5;241m=\u001b[39m(\u001b[38;5;241m13\u001b[39m,\u001b[38;5;241m5\u001b[39m))\n\u001b[0;32m      5\u001b[0m sns\u001b[38;5;241m.\u001b[39mbarplot(data\u001b[38;5;241m=\u001b[39mmonthly_avg, x\u001b[38;5;241m=\u001b[39m\u001b[38;5;124m'\u001b[39m\u001b[38;5;124mMonth\u001b[39m\u001b[38;5;124m'\u001b[39m, y\u001b[38;5;241m=\u001b[39mtarget_col, hue\u001b[38;5;241m=\u001b[39m\u001b[38;5;124m'\u001b[39m\u001b[38;5;124mMonth\u001b[39m\u001b[38;5;124m'\u001b[39m, palette\u001b[38;5;241m=\u001b[39m\u001b[38;5;124m\"\u001b[39m\u001b[38;5;124mcoolwarm\u001b[39m\u001b[38;5;124m\"\u001b[39m, legend\u001b[38;5;241m=\u001b[39m\u001b[38;5;28;01mFalse\u001b[39;00m)\n",
      "File \u001b[1;32m~\\anaconda3\\Lib\\site-packages\\pandas\\core\\frame.py:9183\u001b[0m, in \u001b[0;36mDataFrame.groupby\u001b[1;34m(self, by, axis, level, as_index, sort, group_keys, observed, dropna)\u001b[0m\n\u001b[0;32m   9180\u001b[0m \u001b[38;5;28;01mif\u001b[39;00m level \u001b[38;5;129;01mis\u001b[39;00m \u001b[38;5;28;01mNone\u001b[39;00m \u001b[38;5;129;01mand\u001b[39;00m by \u001b[38;5;129;01mis\u001b[39;00m \u001b[38;5;28;01mNone\u001b[39;00m:\n\u001b[0;32m   9181\u001b[0m     \u001b[38;5;28;01mraise\u001b[39;00m \u001b[38;5;167;01mTypeError\u001b[39;00m(\u001b[38;5;124m\"\u001b[39m\u001b[38;5;124mYou have to supply one of \u001b[39m\u001b[38;5;124m'\u001b[39m\u001b[38;5;124mby\u001b[39m\u001b[38;5;124m'\u001b[39m\u001b[38;5;124m and \u001b[39m\u001b[38;5;124m'\u001b[39m\u001b[38;5;124mlevel\u001b[39m\u001b[38;5;124m'\u001b[39m\u001b[38;5;124m\"\u001b[39m)\n\u001b[1;32m-> 9183\u001b[0m \u001b[38;5;28;01mreturn\u001b[39;00m DataFrameGroupBy(\n\u001b[0;32m   9184\u001b[0m     obj\u001b[38;5;241m=\u001b[39m\u001b[38;5;28mself\u001b[39m,\n\u001b[0;32m   9185\u001b[0m     keys\u001b[38;5;241m=\u001b[39mby,\n\u001b[0;32m   9186\u001b[0m     axis\u001b[38;5;241m=\u001b[39maxis,\n\u001b[0;32m   9187\u001b[0m     level\u001b[38;5;241m=\u001b[39mlevel,\n\u001b[0;32m   9188\u001b[0m     as_index\u001b[38;5;241m=\u001b[39mas_index,\n\u001b[0;32m   9189\u001b[0m     sort\u001b[38;5;241m=\u001b[39msort,\n\u001b[0;32m   9190\u001b[0m     group_keys\u001b[38;5;241m=\u001b[39mgroup_keys,\n\u001b[0;32m   9191\u001b[0m     observed\u001b[38;5;241m=\u001b[39mobserved,\n\u001b[0;32m   9192\u001b[0m     dropna\u001b[38;5;241m=\u001b[39mdropna,\n\u001b[0;32m   9193\u001b[0m )\n",
      "File \u001b[1;32m~\\anaconda3\\Lib\\site-packages\\pandas\\core\\groupby\\groupby.py:1329\u001b[0m, in \u001b[0;36mGroupBy.__init__\u001b[1;34m(self, obj, keys, axis, level, grouper, exclusions, selection, as_index, sort, group_keys, observed, dropna)\u001b[0m\n\u001b[0;32m   1326\u001b[0m \u001b[38;5;28mself\u001b[39m\u001b[38;5;241m.\u001b[39mdropna \u001b[38;5;241m=\u001b[39m dropna\n\u001b[0;32m   1328\u001b[0m \u001b[38;5;28;01mif\u001b[39;00m grouper \u001b[38;5;129;01mis\u001b[39;00m \u001b[38;5;28;01mNone\u001b[39;00m:\n\u001b[1;32m-> 1329\u001b[0m     grouper, exclusions, obj \u001b[38;5;241m=\u001b[39m get_grouper(\n\u001b[0;32m   1330\u001b[0m         obj,\n\u001b[0;32m   1331\u001b[0m         keys,\n\u001b[0;32m   1332\u001b[0m         axis\u001b[38;5;241m=\u001b[39maxis,\n\u001b[0;32m   1333\u001b[0m         level\u001b[38;5;241m=\u001b[39mlevel,\n\u001b[0;32m   1334\u001b[0m         sort\u001b[38;5;241m=\u001b[39msort,\n\u001b[0;32m   1335\u001b[0m         observed\u001b[38;5;241m=\u001b[39m\u001b[38;5;28;01mFalse\u001b[39;00m \u001b[38;5;28;01mif\u001b[39;00m observed \u001b[38;5;129;01mis\u001b[39;00m lib\u001b[38;5;241m.\u001b[39mno_default \u001b[38;5;28;01melse\u001b[39;00m observed,\n\u001b[0;32m   1336\u001b[0m         dropna\u001b[38;5;241m=\u001b[39m\u001b[38;5;28mself\u001b[39m\u001b[38;5;241m.\u001b[39mdropna,\n\u001b[0;32m   1337\u001b[0m     )\n\u001b[0;32m   1339\u001b[0m \u001b[38;5;28;01mif\u001b[39;00m observed \u001b[38;5;129;01mis\u001b[39;00m lib\u001b[38;5;241m.\u001b[39mno_default:\n\u001b[0;32m   1340\u001b[0m     \u001b[38;5;28;01mif\u001b[39;00m \u001b[38;5;28many\u001b[39m(ping\u001b[38;5;241m.\u001b[39m_passed_categorical \u001b[38;5;28;01mfor\u001b[39;00m ping \u001b[38;5;129;01min\u001b[39;00m grouper\u001b[38;5;241m.\u001b[39mgroupings):\n",
      "File \u001b[1;32m~\\anaconda3\\Lib\\site-packages\\pandas\\core\\groupby\\grouper.py:1043\u001b[0m, in \u001b[0;36mget_grouper\u001b[1;34m(obj, key, axis, level, sort, observed, validate, dropna)\u001b[0m\n\u001b[0;32m   1041\u001b[0m         in_axis, level, gpr \u001b[38;5;241m=\u001b[39m \u001b[38;5;28;01mFalse\u001b[39;00m, gpr, \u001b[38;5;28;01mNone\u001b[39;00m\n\u001b[0;32m   1042\u001b[0m     \u001b[38;5;28;01melse\u001b[39;00m:\n\u001b[1;32m-> 1043\u001b[0m         \u001b[38;5;28;01mraise\u001b[39;00m \u001b[38;5;167;01mKeyError\u001b[39;00m(gpr)\n\u001b[0;32m   1044\u001b[0m \u001b[38;5;28;01melif\u001b[39;00m \u001b[38;5;28misinstance\u001b[39m(gpr, Grouper) \u001b[38;5;129;01mand\u001b[39;00m gpr\u001b[38;5;241m.\u001b[39mkey \u001b[38;5;129;01mis\u001b[39;00m \u001b[38;5;129;01mnot\u001b[39;00m \u001b[38;5;28;01mNone\u001b[39;00m:\n\u001b[0;32m   1045\u001b[0m     \u001b[38;5;66;03m# Add key to exclusions\u001b[39;00m\n\u001b[0;32m   1046\u001b[0m     exclusions\u001b[38;5;241m.\u001b[39madd(gpr\u001b[38;5;241m.\u001b[39mkey)\n",
      "\u001b[1;31mKeyError\u001b[0m: 'Month'"
     ]
    }
   ],
   "source": [
    "# Bar plot per month\n",
    "monthly_avg = df.groupby('Month')[target_col].mean().reset_index()\n",
    "\n",
    "plt.figure(figsize=(13,5))\n",
    "sns.barplot(data=monthly_avg, x='Month', y=target_col, hue='Month', palette=\"coolwarm\", legend=False)\n",
    "plt.title(f\"Average {target_col} by Month\")\n",
    "plt.xlabel(\"Month\")\n",
    "plt.ylabel(f\"Average {target_col}\")\n",
    "plt.tight_layout()\n",
    "plt.show()\n",
    "\n",
    "# plt.savefig(os.path.join(FIGURES_DIR, \"categorical_bar.png\"))\n",
    "# plt.close()\n",
    "# print(\"Saved: categorical_bar.png\")"
   ]
  },
  {
   "cell_type": "code",
   "execution_count": null,
   "id": "cf26d5b8-3aaa-4478-b054-41f2b8b48573",
   "metadata": {},
   "outputs": [],
   "source": [
    "# 7b. Correlation heatmap (for numeric columns)\n",
    "corr = df[numeric_cols].corr()\n",
    "plt.figure(figsize=(8,6))\n",
    "sns.heatmap(corr, annot=True, fmt=\".2f\", cmap=\"coolwarm\", linewidths=.5)\n",
    "plt.title(\"Correlation Heatmap (Numeric Columns)\")\n",
    "plt.tight_layout()\n",
    "plt.show()\n",
    "\n",
    "# plt.savefig(os.path.join(FIGURES_DIR, \"correlation_heatmap.png\"))\n",
    "# plt.close()\n",
    "# print(\"Saved: correlation_heatmap.png\")"
   ]
  },
  {
   "cell_type": "code",
   "execution_count": 98,
   "id": "2cecb988-d15f-44dd-a7f0-9e05369d6d2f",
   "metadata": {},
   "outputs": [
    {
     "name": "stdout",
     "output_type": "stream",
     "text": [
      "\n",
      "--- SUMMARY ---\n",
      "Data rows: 2077\n",
      "Analyzed column: Monthly Anomaly\n",
      "Mean=0.040, Variance=0.175, Skew=0.738, Kurtosis=0.182\n",
      "Plots saved in: ../figures\n",
      "Done.\n"
     ]
    }
   ],
   "source": [
    "print(\"\\n--- SUMMARY ---\")\n",
    "print(f\"Data rows: {len(df)}\")\n",
    "print(f\"Analyzed column: {target_col}\")\n",
    "print(f\"Mean={mean_val:.3f}, Variance={var_val:.3f}, Skew={skew_val:.3f}, Kurtosis={kurt_val:.3f}\")\n",
    "print(\"Plots saved in:\", FIGURES_DIR)\n",
    "print(\"Done.\")"
   ]
  },
  {
   "cell_type": "code",
   "execution_count": null,
   "id": "bb691a96-43ed-40e1-a86a-1af3053bd70f",
   "metadata": {},
   "outputs": [],
   "source": []
  }
 ],
 "metadata": {
  "kernelspec": {
   "display_name": "Python 3 (ipykernel)",
   "language": "python",
   "name": "python3"
  },
  "language_info": {
   "codemirror_mode": {
    "name": "ipython",
    "version": 3
   },
   "file_extension": ".py",
   "mimetype": "text/x-python",
   "name": "python",
   "nbconvert_exporter": "python",
   "pygments_lexer": "ipython3",
   "version": "3.13.5"
  }
 },
 "nbformat": 4,
 "nbformat_minor": 5
}
