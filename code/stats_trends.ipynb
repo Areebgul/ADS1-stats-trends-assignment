{
 "cells": [
  {
   "cell_type": "code",
   "execution_count": 13,
   "id": "04d163ea-3472-4bc5-a325-be48d1ac83f2",
   "metadata": {},
   "outputs": [],
   "source": [
    "import os\n",
    "import pandas as pd\n",
    "import numpy as np\n",
    "import matplotlib.pyplot as plt\n",
    "import seaborn as sns\n",
    "from scipy.stats import skew, kurtosis\n",
    "\n",
    "DATA_PATH = \"../data/Global Temperature.csv\"   \n",
    "FIGURES_DIR = \"../figures\"\n",
    "os.makedirs(FIGURES_DIR, exist_ok=True)"
   ]
  },
  {
   "cell_type": "code",
   "execution_count": 14,
   "id": "bd83120d-7c00-4bd1-8f31-10340c2c73b7",
   "metadata": {},
   "outputs": [
    {
     "name": "stdout",
     "output_type": "stream",
     "text": [
      "Loaded dataset: ../data/Global Temperature.csv\n",
      "Shape: (2077, 12)\n",
      "Columns: ['Year', ' Month', 'Monthly Anomaly', ' Monthly Unc.', '  Annual Anomaly', ' Annual Unc', 'Five-Year Anomaly', ' Five-Year Unc.', ' Ten-Year Anomaly', ' Ten-Year Unc.', '  Twenty-Year Anomaly', ' Twenty-year Unc.']\n"
     ]
    }
   ],
   "source": [
    "df = pd.read_csv(DATA_PATH)\n",
    "print(\"Loaded dataset:\", DATA_PATH)\n",
    "print(\"Shape:\", df.shape)\n",
    "print(\"Columns:\", df.columns.tolist())"
   ]
  },
  {
   "cell_type": "code",
   "execution_count": 15,
   "id": "20916b49-c30b-4f3d-8a8e-f385a3d5e261",
   "metadata": {},
   "outputs": [
    {
     "name": "stdout",
     "output_type": "stream",
     "text": [
      "Columns: ['Year', ' Month', 'Monthly Anomaly', ' Monthly Unc.', '  Annual Anomaly', ' Annual Unc', 'Five-Year Anomaly', ' Five-Year Unc.', ' Ten-Year Anomaly', ' Ten-Year Unc.', '  Twenty-Year Anomaly', ' Twenty-year Unc.']\n"
     ]
    }
   ],
   "source": [
    "# Data Cleaning\n",
    "for col in df.columns:\n",
    "    if 'Anomaly' in col or 'Unc' in col:\n",
    "        # Converts columns to float\n",
    "        df[col] = pd.to_numeric(df[col], errors='coerce')\n",
    "\n",
    "print(\"Columns:\", df.columns.tolist())\n"
   ]
  },
  {
   "cell_type": "code",
   "execution_count": 16,
   "id": "742b75bf-2add-41ca-a9cd-417cfb25afc5",
   "metadata": {},
   "outputs": [],
   "source": [
    "# Identify columns that are 100% NaN\n",
    "full_empty_cols = df.columns[df.isna().all()].tolist()\n",
    "if full_empty_cols:\n",
    "    print(f\"Columns found that are 100% NaN and will be dropped: {full_empty_cols}\")\n",
    "    \n",
    "# Drop full-empty columns (if all NaN)\n",
    "df = df.dropna(axis=1, how='all')\n"
   ]
  },
  {
   "cell_type": "code",
   "execution_count": 17,
   "id": "fde07faa-439c-4034-a05a-c0101af0b674",
   "metadata": {},
   "outputs": [
    {
     "name": "stdout",
     "output_type": "stream",
     "text": [
      "Columns containing NaNs that will be imputed by ffill: [' Monthly Unc.', '  Annual Anomaly', ' Annual Unc', 'Five-Year Anomaly', ' Five-Year Unc.', ' Ten-Year Anomaly', ' Ten-Year Unc.', '  Twenty-Year Anomaly', ' Twenty-year Unc.']\n"
     ]
    }
   ],
   "source": [
    "# Identify columns that contain AT LEAST ONE NaN\n",
    "ffill_affected_cols = df.columns[df.isna().any()].tolist()\n",
    "if ffill_affected_cols:\n",
    "    print(f\"Columns containing NaNs that will be imputed by ffill: {ffill_affected_cols}\")\n",
    "    \n",
    "# Replace numeric NaNs with forward-fill\n",
    "df = df.ffill()"
   ]
  },
  {
   "cell_type": "code",
   "execution_count": 18,
   "id": "cd34abc7-ddd8-44de-bca9-b47c99989caf",
   "metadata": {},
   "outputs": [],
   "source": [
    "# FIX Columns spaces\n",
    "df.columns = df.columns.str.strip()"
   ]
  },
  {
   "cell_type": "code",
   "execution_count": 19,
   "id": "78664eff-3593-47f0-a35c-a8187f0717f6",
   "metadata": {},
   "outputs": [
    {
     "name": "stdout",
     "output_type": "stream",
     "text": [
      "\n",
      "Numeric columns: ['Year', 'Month', 'Monthly Anomaly', 'Monthly Unc.', 'Annual Anomaly', 'Annual Unc', 'Five-Year Anomaly', 'Five-Year Unc.', 'Ten-Year Anomaly', 'Ten-Year Unc.', 'Twenty-Year Anomaly', 'Twenty-year Unc.']\n"
     ]
    }
   ],
   "source": [
    "# Create a 'Date' column combining Year and Month\n",
    "df['Date'] = pd.to_datetime(df[['Year', 'Month']].assign(day=1))\n",
    "# df['Date'] = pd.to_datetime(df[['Year']].assign(Month=1, Day=1))\n",
    "\n",
    "# SELECT NUMERIC COLUMNS\n",
    "numeric_cols = df.select_dtypes(include=[np.number]).columns.tolist()\n",
    "print(\"\\nNumeric columns:\", numeric_cols)"
   ]
  },
  {
   "cell_type": "code",
   "execution_count": 20,
   "id": "e75b5d8f-2daf-485d-a05c-e0586f69bb67",
   "metadata": {},
   "outputs": [
    {
     "name": "stdout",
     "output_type": "stream",
     "text": [
      "\n",
      "Statistical Moments for Monthly Anomaly:\n",
      "  Mean: 0.0396\n",
      "  Variance: 0.1752\n",
      "  Skewness: 0.7384\n",
      "  Kurtosis: 0.1817\n"
     ]
    }
   ],
   "source": [
    "# For our 4 statistical moments, we will focus on the Monthly Anomaly column\n",
    "target_col = 'Monthly Anomaly' if 'Monthly Anomaly' in df.columns else numeric_cols[2]\n",
    "\n",
    "series = df[target_col].dropna()\n",
    "\n",
    "# STATISTICAL MOMENTS\n",
    "mean_val = series.mean()\n",
    "var_val = series.var(ddof=0)\n",
    "skew_val = skew(series)\n",
    "kurt_val = kurtosis(series)\n",
    "\n",
    "print(f\"\\nStatistical Moments for {target_col}:\")\n",
    "print(f\"  Mean: {mean_val:.4f}\")\n",
    "print(f\"  Variance: {var_val:.4f}\")\n",
    "print(f\"  Skewness: {skew_val:.4f}\")\n",
    "print(f\"  Kurtosis: {kurt_val:.4f}\")"
   ]
  },
  {
   "cell_type": "code",
   "execution_count": 22,
   "id": "c88bc61f-08a7-41cd-b9e1-8f115a2be333",
   "metadata": {},
   "outputs": [
    {
     "name": "stdout",
     "output_type": "stream",
     "text": [
      "Saved: relational_line.png\n"
     ]
    }
   ],
   "source": [
    "# Line plot over time\n",
    "plt.figure(figsize=(10,5))\n",
    "sns.lineplot(data=df, x='Date', y=target_col, color='#A52A2A')\n",
    "plt.title(f\"{target_col} Over Time\")\n",
    "plt.xlabel(\"Year\")\n",
    "plt.ylabel(target_col)\n",
    "plt.tight_layout()\n",
    "# plt.show()\n",
    "\n",
    "plt.savefig(os.path.join(FIGURES_DIR, \"relational_line.png\"))\n",
    "plt.close()\n",
    "print(\"Saved: relational_line.png\")"
   ]
  },
  {
   "cell_type": "code",
   "execution_count": 27,
   "id": "cbc03e7d-eb08-43e0-b733-c3a89cc76ed9",
   "metadata": {},
   "outputs": [
    {
     "name": "stdout",
     "output_type": "stream",
     "text": [
      "Saved: categorical_bar.png\n"
     ]
    }
   ],
   "source": [
    "# Bar plot per month\n",
    "monthly_avg = df.groupby('Month')[target_col].mean().reset_index()\n",
    "\n",
    "plt.figure(figsize=(11,5))\n",
    "sns.barplot(data=monthly_avg, x='Month', y=target_col, hue='Month', palette=\"coolwarm\", legend=False)\n",
    "plt.title(f\"Average {target_col} by Month\")\n",
    "plt.xlabel(\"Month\")\n",
    "plt.ylabel(f\"Average {target_col}\")\n",
    "plt.tight_layout()\n",
    "# plt.show()\n",
    "\n",
    "plt.savefig(os.path.join(FIGURES_DIR, \"categorical_bar.png\"))\n",
    "plt.close()\n",
    "print(\"Saved: categorical_bar.png\")"
   ]
  },
  {
   "cell_type": "code",
   "execution_count": 29,
   "id": "cf26d5b8-3aaa-4478-b054-41f2b8b48573",
   "metadata": {},
   "outputs": [
    {
     "name": "stdout",
     "output_type": "stream",
     "text": [
      "Saved: correlation_heatmap.png\n"
     ]
    }
   ],
   "source": [
    "# 7b. Correlation heatmap (for numeric columns)\n",
    "corr = df[numeric_cols].corr()\n",
    "plt.figure(figsize=(8,6))\n",
    "sns.heatmap(corr, annot=True, fmt=\".2f\", cmap=\"coolwarm\", linewidths=.5)\n",
    "plt.title(\"Correlation Heatmap (Numeric Columns)\")\n",
    "plt.tight_layout()\n",
    "# plt.show()\n",
    "\n",
    "plt.savefig(os.path.join(FIGURES_DIR, \"correlation_heatmap.png\"))\n",
    "plt.close()\n",
    "print(\"Saved: correlation_heatmap.png\")"
   ]
  },
  {
   "cell_type": "code",
   "execution_count": 31,
   "id": "2cecb988-d15f-44dd-a7f0-9e05369d6d2f",
   "metadata": {},
   "outputs": [
    {
     "name": "stdout",
     "output_type": "stream",
     "text": [
      "\n",
      "--- SUMMARY ---\n",
      "Data rows: 2077\n",
      "Analyzed column: Monthly Anomaly\n",
      "Mean=0.040, Variance=0.175, Skew=0.738, Kurtosis=0.182\n",
      "Plots saved in: ../figures\n",
      "Done.\n"
     ]
    }
   ],
   "source": [
    "print(\"\\n--- SUMMARY ---\")\n",
    "print(f\"Data rows: {len(df)}\")\n",
    "print(f\"Analyzed column: {target_col}\")\n",
    "print(f\"Mean={mean_val:.3f}, Variance={var_val:.3f}, Skew={skew_val:.3f}, Kurtosis={kurt_val:.3f}\")\n",
    "print(\"Plots saved in:\", FIGURES_DIR)\n",
    "print(\"Done.\")"
   ]
  },
  {
   "cell_type": "code",
   "execution_count": null,
   "id": "bb691a96-43ed-40e1-a86a-1af3053bd70f",
   "metadata": {},
   "outputs": [],
   "source": []
  }
 ],
 "metadata": {
  "kernelspec": {
   "display_name": "Python 3 (ipykernel)",
   "language": "python",
   "name": "python3"
  },
  "language_info": {
   "codemirror_mode": {
    "name": "ipython",
    "version": 3
   },
   "file_extension": ".py",
   "mimetype": "text/x-python",
   "name": "python",
   "nbconvert_exporter": "python",
   "pygments_lexer": "ipython3",
   "version": "3.13.5"
  }
 },
 "nbformat": 4,
 "nbformat_minor": 5
}
